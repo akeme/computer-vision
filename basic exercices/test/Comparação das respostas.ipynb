{
 "cells": [
  {
   "cell_type": "markdown",
   "metadata": {},
   "source": [
    "# verificação da corretude do algoritmo Histograma para imagens coloridas\n",
    "equipe: Jorge\n",
    "        Mariana"
   ]
  },
  {
   "cell_type": "markdown",
   "metadata": {},
   "source": [
    "## utilizando uma ferramenta para determinação\n",
    "para verificar a corretude do nosso algoritmo, será comparado a resposta de saída do nosso algoritmo com os valores encontrado pela OpenCV"
   ]
  },
  {
   "cell_type": "code",
   "execution_count": 13,
   "metadata": {},
   "outputs": [],
   "source": [
    "# import the necessary packages\n",
    "from matplotlib import pyplot as plt\n",
    "import numpy as np\n",
    "import argparse\n",
    "import cv2"
   ]
  },
  {
   "cell_type": "code",
   "execution_count": 14,
   "metadata": {},
   "outputs": [
    {
     "data": {
      "text/plain": [
       "<matplotlib.image.AxesImage at 0x7fa89fb92080>"
      ]
     },
     "execution_count": 14,
     "metadata": {},
     "output_type": "execute_result"
    },
    {
     "data": {
      "image/png": "[encoded data removed]",
      "text/plain": [
       "<Figure size 432x288 with 1 Axes>"
      ]
     },
     "metadata": {
      "needs_background": "light"
     },
     "output_type": "display_data"
    }
   ],
   "source": [
    "# load the image and show it\n",
    "image = cv2.imread('logo.ppm')\n",
    "\n",
    "plt.imshow(image)\n",
    "#cv2.imshow(\"image\", image)"
   ]
  },
  {
   "cell_type": "code",
   "execution_count": 15,
   "metadata": {},
   "outputs": [
    {
     "name": "stdout",
     "output_type": "stream",
     "text": [
      "(256,)\n",
      "int64\n",
      "[   0    0    0    0    0    0    0    0    0    0    0    0    0    0\n",
      "    0    0    0    0    0    0    0    0    0    0    0    0    0    0\n",
      "    0    2   29    0    1    0    0    1    0    1    0    1    0    0\n",
      "    0    0    0    0    1    0    0    0    0    0    0    1    1    0\n",
      "    0    0    0    0    0    0    0    0    1    0    0    0    0    0\n",
      "    0    0    1    0    0    0    0    0    0    0    0    0    0    0\n",
      "    0    0    0    0    0    0    1    0    0    0    0    0    0    0\n",
      "    0    0    0    0    0   12  333   23    2    2   10    1    0    0\n",
      "    0    2    0   15    1   11    2    0    0    1    1    1    0    0\n",
      "    0    0    0    0    0    2   12    3    1    1    1    2    0    0\n",
      "    0   14    1    1    0    1    1    0    1    0    0    0    0    1\n",
      "    0    0    0    9    1    1    3    5    9    2    1    1    0    1\n",
      "    0    1    0    0    1    1    0    0    1    1    0    1    1    0\n",
      "    0    2    1   11    0    1    4    6    5    8    1    1    0   10\n",
      "    2    0    4    2    1    3    6    1    0    0    0   11    5    2\n",
      "    0    3    2    2    2    0    5    2    2    1    0    0    2    2\n",
      "    3    1    9    6    2    2    2    2    1    0    2    0    1    2\n",
      "    0    0    0    1    2    2    1    5    3    3    1   11    3    1\n",
      "    1   18    9 1608]\n"
     ]
    }
   ],
   "source": [
    "#separete the 3 colors channels\n",
    "(channel_b, channel_g, channel_r) = cv2.split(image)\n",
    "histR = cv2.calcHist([channel_r], [0], None, [256], [0, 256])\n",
    "#histR = histR.tolist()\n",
    "histR = histR.flatten().astype(int) \n",
    "histG = cv2.calcHist([channel_g], [0], None, [256], [0, 256])\n",
    "histG = histG.flatten().astype(int) \n",
    "\n",
    "histB = cv2.calcHist([channel_b], [0], None, [256], [0, 256])\n",
    "histB = histB.flatten().astype(int) \n",
    "\n",
    "#print(histR)\n",
    "print(histG.shape)\n",
    "print(histG.dtype)\n",
    "print(histG)"
   ]
  },
  {
   "cell_type": "markdown",
   "metadata": {},
   "source": [
    "## valores obtidos pelo nosso algoritmo\n",
    "os valores obtidos ao rodar o código na Raspberry (ARM) geraram um output.txt\n",
    "esse arquivo foi utilizado para comparação das saídas"
   ]
  },
  {
   "cell_type": "markdown",
   "metadata": {},
   "source": [
    "abertura do arquivo"
   ]
  },
  {
   "cell_type": "code",
   "execution_count": 16,
   "metadata": {},
   "outputs": [
    {
     "name": "stdout",
     "output_type": "stream",
     "text": [
      "valores de saída \n",
      "\n",
      "['0 0 0 0 1 340 0 1 2 1 0 0 0 0 0 0 0 0 1 19 1 1 0 1 1 0 0 0 0 0 1 0 1 0 0 0 1 0 0 1 9 0 0 1 0 0 0 0 0 0 0 0 1 0 0 0 9 2 4 0 1 1 1 0 8 1 1 1 0 0 0 0 0 1 1 0 1 0 0 0 0 0 0 0 0 12 2 1 0 1 1 0 0 1 1 0 0 0 0 1 14 1 0 0 0 1 0 1 0 0 1 0 0 0 0 0 0 0 0 0 0 1 0 0 0 0 0 0 0 9 0 1 0 1 2 0 1 0 2 3 8 2 1 1 0 0 0 0 0 0 1 0 0 1 0 0 1 0 0 0 0 0 0 0 0 1 3 0 7 3 3 6 1 2 3 8 1 0 1 10 1 0 0 1 0 5 1 1 2 1 5 44 6 2 0 1 3 1 1 3 0 1 1 1 3 0 0 1 6 1 4 1 0 1 2 2 1 0 2 1 10 2 4 5 4 2 0 0 1 1 0 0 1 1 0 0 0 2 3 3 1 2 1 5 3 0 9 4 3 2 0 1 12 10 5 1611', '', '0 0 0 0 0 0 0 0 0 0 0 0 0 0 0 0 0 0 0 0 0 0 0 0 0 0 0 0 0 2 29 0 1 0 0 1 0 1 0 1 0 0 0 0 0 0 1 0 0 0 0 0 0 1 1 0 0 0 0 0 0 0 0 0 1 0 0 0 0 0 0 0 1 0 0 0 0 0 0 0 0 0 0 0 0 0 0 0 0 0 1 0 0 0 0 0 0 0 0 0 0 0 0 12 333 23 2 2 10 1 0 0 0 2 0 15 1 11 2 0 0 1 1 1 0 0 0 0 0 0 0 2 12 3 1 1 1 2 0 0 0 14 1 1 0 1 1 0 1 0 0 0 0 1 0 0 0 9 1 1 3 5 9 2 1 1 0 1 0 1 0 0 1 1 0 0 1 1 0 1 1 0 0 2 1 11 0 1 4 6 5 8 1 1 0 10 2 0 4 2 1 3 6 1 0 0 0 11 5 2 0 3 2 2 2 0 5 2 2 1 0 0 2 2 3 1 9 6 2 2 2 2 1 0 2 0 1 2 0 0 0 1 2 2 1 5 3 3 1 11 3 1 1 18 9 1608', '', '0 0 0 0 0 0 0 0 0 0 0 0 0 0 0 0 0 0 0 0 0 0 0 0 0 0 0 0 0 0 0 0 0 0 0 0 0 0 0 0 0 0 0 0 1 30 0 1 1 0 1 1 0 0 0 0 57 289 0 21 2 1 1 2 2 0 9 1 0 1 0 0 1 0 0 1 0 0 12 4 0 3 8 1 1 1 0 0 0 1 1 0 1 0 0 1 0 0 0 0 0 0 0 1 13 2 0 1 1 0 1 1 0 0 0 13 1 2 0 1 0 1 0 1 0 0 0 0 0 0 0 0 1 0 1 0 0 0 9 0 2 0 1 1 4 3 5 3 1 2 1 1 0 0 0 0 0 1 0 1 0 0 0 3 0 0 0 0 0 0 0 3 1 7 3 1 3 2 6 2 4 10 1 1 1 10 0 0 0 1 6 1 2 1 6 0 0 0 11 4 0 0 5 1 0 1 1 2 0 0 1 4 2 3 1 2 0 0 5 1 0 1 9 3 5 2 1 3 1 0 3 0 0 0 1 0 0 1 1 1 2 2 1 1 5 2 0 4 11 3 1 0 4 16 8 1608', '']\n"
     ]
    }
   ],
   "source": [
    "arq = open('Vetores_de_saida.txt', 'r')\n",
    "file = arq.readlines()\n",
    "vetor = []\n",
    "for line in file :\n",
    "    line = line.rstrip()\n",
    "    vetor.append(line)\n",
    "    #print(linha)\n",
    "arq.close()\n",
    "\n",
    "print(\"valores de saída \\n\")\n",
    "print(vetor)\n",
    "\n",
    "vector_r = vetor[0]\n",
    "#print(type(vector_r))\n",
    "vector_g = vetor[2]\n",
    "vector_b = vetor[4]\n",
    "\n",
    "vRed = vector_r.split()\n",
    "vGreen = vector_g.split()\n",
    "vBlue = vector_b.split()\n",
    "#print(vGreen)    \n"
   ]
  },
  {
   "cell_type": "markdown",
   "metadata": {},
   "source": [
    "### observação\n",
    "devido aos tipos diferentes de dados foram realizados alguns tratamentos de dados"
   ]
  },
  {
   "cell_type": "code",
   "execution_count": 17,
   "metadata": {},
   "outputs": [
    {
     "name": "stdout",
     "output_type": "stream",
     "text": [
      "[0, 0, 0, 0, 0, 0, 0, 0, 0, 0, 0, 0, 0, 0, 0, 0, 0, 0, 0, 0, 0, 0, 0, 0, 0, 0, 0, 0, 0, 2, 29, 0, 1, 0, 0, 1, 0, 1, 0, 1, 0, 0, 0, 0, 0, 0, 1, 0, 0, 0, 0, 0, 0, 1, 1, 0, 0, 0, 0, 0, 0, 0, 0, 0, 1, 0, 0, 0, 0, 0, 0, 0, 1, 0, 0, 0, 0, 0, 0, 0, 0, 0, 0, 0, 0, 0, 0, 0, 0, 0, 1, 0, 0, 0, 0, 0, 0, 0, 0, 0, 0, 0, 0, 12, 333, 23, 2, 2, 10, 1, 0, 0, 0, 2, 0, 15, 1, 11, 2, 0, 0, 1, 1, 1, 0, 0, 0, 0, 0, 0, 0, 2, 12, 3, 1, 1, 1, 2, 0, 0, 0, 14, 1, 1, 0, 1, 1, 0, 1, 0, 0, 0, 0, 1, 0, 0, 0, 9, 1, 1, 3, 5, 9, 2, 1, 1, 0, 1, 0, 1, 0, 0, 1, 1, 0, 0, 1, 1, 0, 1, 1, 0, 0, 2, 1, 11, 0, 1, 4, 6, 5, 8, 1, 1, 0, 10, 2, 0, 4, 2, 1, 3, 6, 1, 0, 0, 0, 11, 5, 2, 0, 3, 2, 2, 2, 0, 5, 2, 2, 1, 0, 0, 2, 2, 3, 1, 9, 6, 2, 2, 2, 2, 1, 0, 2, 0, 1, 2, 0, 0, 0, 1, 2, 2, 1, 5, 3, 3, 1, 11, 3, 1, 1, 18, 9, 1608]\n"
     ]
    }
   ],
   "source": [
    "red = []\n",
    "for i in range(0, len(vRed)):\n",
    "    x = int(vRed[i])\n",
    "    red.append(x)\n",
    "\n",
    "redA = np.asarray(red)\n",
    "\n",
    "\n",
    "green = []\n",
    "for i in range(0, len(vGreen)):\n",
    "    x = int(vGreen[i])\n",
    "    green.append(x)\n",
    "print(green)\n",
    "greenA = np.asarray(green)\n",
    "\n",
    "\n",
    "blue = []\n",
    "for i in range(0, len(vBlue)):\n",
    "    x = int(vBlue[i])\n",
    "    blue.append(x)\n",
    "\n",
    "blueA = np.asarray(blue)\n",
    "\n",
    "#print(greenA)\n",
    "#print(greenA.shape)\n",
    "#print(greenA.dtype)"
   ]
  },
  {
   "cell_type": "markdown",
   "metadata": {},
   "source": [
    "## comparação dos resultados"
   ]
  },
  {
   "cell_type": "code",
   "execution_count": 18,
   "metadata": {},
   "outputs": [
    {
     "data": {
      "text/plain": [
       "True"
      ]
     },
     "execution_count": 18,
     "metadata": {},
     "output_type": "execute_result"
    }
   ],
   "source": [
    "# o nparray poode ser comparado elemento a elemento da seguinte forma\n",
    "# (A,B).all() - retornará True se TODOS os elementos forem iguais em valores e tipos\n",
    "(redA==histR).all()\n"
   ]
  },
  {
   "cell_type": "code",
   "execution_count": 19,
   "metadata": {},
   "outputs": [
    {
     "name": "stdout",
     "output_type": "stream",
     "text": [
      "[0 0 0 0 0 0 0 0 0 0 0 0 0 0 0 0 0 0 0 0 0 0 0 0 0 0 0 0 0 0 0 0 0 0 0 0 0\n",
      " 0 0 0 0 0 0 0 0 0 0 0 0 0 0 0 0 0 0 0 0 0 0 0 0 0 0 0 0 0 0 0 0 0 0 0 0 0\n",
      " 0 0 0 0 0 0 0 0 0 0 0 0 0 0 0 0 0 0 0 0 0 0 0 0 0 0 0 0 0 0 0 0 0 0 0 0 0\n",
      " 0 0 0 0 0 0 0 0 0 0 0 0 0 0 0 0 0 0 0 0 0 0 0 0 0 0 0 0 0 0 0 0 0 0 0 0 0\n",
      " 0 0 0 0 0 0 0 0 0 0 0 0 0 0 0 0 0 0 0 0 0 0 0 0 0 0 0 0 0 0 0 0 0 0 0 0 0\n",
      " 0 0 0 0 0 0 0 0 0 0 0 0 0 0 0 0 0 0 0 0 0 0 0 0 0 0 0 0 0 0 0 0 0 0 0 0 0\n",
      " 0 0 0 0 0 0 0 0 0 0 0 0 0 0 0 0 0 0 0 0 0 0 0 0 0 0 0 0 0 0 0 0 0 0]\n",
      "desvio padrão para o Vermelho 0.0\n"
     ]
    }
   ],
   "source": [
    "#determinando o desvio padrão do erro\n",
    "errorR = redA - histR\n",
    "print(errorR)\n",
    "stdR = np.std(errorR)\n",
    "print(\"desvio padrão para o Vermelho\", stdR)"
   ]
  },
  {
   "cell_type": "code",
   "execution_count": 20,
   "metadata": {},
   "outputs": [
    {
     "data": {
      "text/plain": [
       "True"
      ]
     },
     "execution_count": 20,
     "metadata": {},
     "output_type": "execute_result"
    }
   ],
   "source": [
    "#canal verde\n",
    "(greenA==histG).all()"
   ]
  },
  {
   "cell_type": "code",
   "execution_count": 21,
   "metadata": {},
   "outputs": [
    {
     "name": "stdout",
     "output_type": "stream",
     "text": [
      "[0 0 0 0 0 0 0 0 0 0 0 0 0 0 0 0 0 0 0 0 0 0 0 0 0 0 0 0 0 0 0 0 0 0 0 0 0\n",
      " 0 0 0 0 0 0 0 0 0 0 0 0 0 0 0 0 0 0 0 0 0 0 0 0 0 0 0 0 0 0 0 0 0 0 0 0 0\n",
      " 0 0 0 0 0 0 0 0 0 0 0 0 0 0 0 0 0 0 0 0 0 0 0 0 0 0 0 0 0 0 0 0 0 0 0 0 0\n",
      " 0 0 0 0 0 0 0 0 0 0 0 0 0 0 0 0 0 0 0 0 0 0 0 0 0 0 0 0 0 0 0 0 0 0 0 0 0\n",
      " 0 0 0 0 0 0 0 0 0 0 0 0 0 0 0 0 0 0 0 0 0 0 0 0 0 0 0 0 0 0 0 0 0 0 0 0 0\n",
      " 0 0 0 0 0 0 0 0 0 0 0 0 0 0 0 0 0 0 0 0 0 0 0 0 0 0 0 0 0 0 0 0 0 0 0 0 0\n",
      " 0 0 0 0 0 0 0 0 0 0 0 0 0 0 0 0 0 0 0 0 0 0 0 0 0 0 0 0 0 0 0 0 0 0]\n",
      "desvio padrão para o verde 0.0\n"
     ]
    }
   ],
   "source": [
    "#desvio padrão\n",
    "errorG = greenA - histG \n",
    "print(errorG)\n",
    "stdG = np.std(errorG)\n",
    "print(\"desvio padrão para o verde\",stdG)"
   ]
  },
  {
   "cell_type": "code",
   "execution_count": 22,
   "metadata": {},
   "outputs": [
    {
     "data": {
      "text/plain": [
       "True"
      ]
     },
     "execution_count": 22,
     "metadata": {},
     "output_type": "execute_result"
    }
   ],
   "source": [
    "#canal azul\n",
    "(blueA==histB).all()"
   ]
  },
  {
   "cell_type": "code",
   "execution_count": 23,
   "metadata": {},
   "outputs": [
    {
     "name": "stdout",
     "output_type": "stream",
     "text": [
      "[0 0 0 0 0 0 0 0 0 0 0 0 0 0 0 0 0 0 0 0 0 0 0 0 0 0 0 0 0 0 0 0 0 0 0 0 0\n",
      " 0 0 0 0 0 0 0 0 0 0 0 0 0 0 0 0 0 0 0 0 0 0 0 0 0 0 0 0 0 0 0 0 0 0 0 0 0\n",
      " 0 0 0 0 0 0 0 0 0 0 0 0 0 0 0 0 0 0 0 0 0 0 0 0 0 0 0 0 0 0 0 0 0 0 0 0 0\n",
      " 0 0 0 0 0 0 0 0 0 0 0 0 0 0 0 0 0 0 0 0 0 0 0 0 0 0 0 0 0 0 0 0 0 0 0 0 0\n",
      " 0 0 0 0 0 0 0 0 0 0 0 0 0 0 0 0 0 0 0 0 0 0 0 0 0 0 0 0 0 0 0 0 0 0 0 0 0\n",
      " 0 0 0 0 0 0 0 0 0 0 0 0 0 0 0 0 0 0 0 0 0 0 0 0 0 0 0 0 0 0 0 0 0 0 0 0 0\n",
      " 0 0 0 0 0 0 0 0 0 0 0 0 0 0 0 0 0 0 0 0 0 0 0 0 0 0 0 0 0 0 0 0 0 0]\n",
      "desvio padrão para o azul 0.0\n"
     ]
    }
   ],
   "source": [
    "#desvio padrão para o azul\n",
    "errorB = blueA - histB \n",
    "print(errorB)\n",
    "stdB = np.std(errorB)\n",
    "print(\"desvio padrão para o azul\",stdB)"
   ]
  },
  {
   "cell_type": "markdown",
   "metadata": {},
   "source": [
    "## apresentação dos resultados de forma gráfica"
   ]
  },
  {
   "cell_type": "code",
   "execution_count": 24,
   "metadata": {},
   "outputs": [
    {
     "name": "stdout",
     "output_type": "stream",
     "text": [
      "flattened feature vector size: 768\n"
     ]
    },
    {
     "data": {
      "image/png": "[encoded data removed]",
      "text/plain": [
       "<Figure size 432x288 with 1 Axes>"
      ]
     },
     "metadata": {
      "needs_background": "light"
     },
     "output_type": "display_data"
    }
   ],
   "source": [
    "# grab the image channels, initialize the tuple of colors,\n",
    "# the figure and the flattened feature vector\n",
    "chans = cv2.split(image)\n",
    "colors = (\"b\", \"g\", \"r\")\n",
    "plt.figure()\n",
    "plt.title(\"'Flattened' Color Histogram\")\n",
    "plt.xlabel(\"Bins\")\n",
    "plt.ylabel(\"# of Pixels\")\n",
    "features = []\n",
    " \n",
    "# loop over the image channels\n",
    "for (chan, color) in zip(chans, colors):\n",
    "\t# create a histogram for the current channel and\n",
    "\t# concatenate the resulting histograms for each\n",
    "\t# channel\n",
    "\thist = cv2.calcHist([chan], [0], None, [256], [0, 256])\n",
    "\tfeatures.extend(hist)\n",
    " \n",
    "\t# plot the histogram\n",
    "\tplt.plot(hist, color = color)\n",
    "\tplt.xlim([0, 256])\n",
    "\n",
    "# here we are simply showing the dimensionality of the\n",
    "# flattened color histogram 256 bins for each channel\n",
    "# x 3 channels = 768 total values --\n",
    "\n",
    "print (\"flattened feature vector size: %d\" % (np.array(features).flatten().shape))"
   ]
  },
  {
   "cell_type": "code",
   "execution_count": 48,
   "metadata": {},
   "outputs": [
    {
     "name": "stdout",
     "output_type": "stream",
     "text": [
      "256\n"
     ]
    },
    {
     "data": {
      "image/png": "[encoded data removed]",
      "text/plain": [
       "<Figure size 432x288 with 1 Axes>"
      ]
     },
     "metadata": {
      "needs_background": "light"
     },
     "output_type": "display_data"
    }
   ],
   "source": [
    "aux = []\n",
    "for i in range(0,256):\n",
    "    aux.append(i)\n",
    "print(len(redA))\n",
    "    \n",
    "plt.bar(np.arange(len(redA)),redA,width=0.8,color='r')\n",
    "plt.title(\"Histograma R\") \n",
    "plt.show()\n"
   ]
  },
  {
   "cell_type": "code",
   "execution_count": 50,
   "metadata": {},
   "outputs": [
    {
     "data": {
      "image/png": "[encoded data removed]",
      "text/plain": [
       "<Figure size 432x288 with 1 Axes>"
      ]
     },
     "metadata": {
      "needs_background": "light"
     },
     "output_type": "display_data"
    }
   ],
   "source": [
    "plt.bar(np.arange(len(greenA)),greenA,width=1,color='g')\n",
    "plt.title(\"Histograma G\") \n",
    "plt.show()\n"
   ]
  },
  {
   "cell_type": "code",
   "execution_count": 51,
   "metadata": {},
   "outputs": [
    {
     "data": {
      "image/png": "[encoded data removed]",
      "text/plain": [
       "<Figure size 432x288 with 1 Axes>"
      ]
     },
     "metadata": {
      "needs_background": "light"
     },
     "output_type": "display_data"
    },
    {
     "ename": "TypeError",
     "evalue": "Expected Ptr<cv::UMat> for argument '%s'",
     "output_type": "error",
     "traceback": [
      "\u001b[0;31m---------------------------------------------------------------------------\u001b[0m",
      "\u001b[0;31mTypeError\u001b[0m                                 Traceback (most recent call last)",
      "\u001b[0;32m<ipython-input-51-a183e38ffe92>\u001b[0m in \u001b[0;36m<module>\u001b[0;34m\u001b[0m\n\u001b[1;32m      2\u001b[0m \u001b[0mplt\u001b[0m\u001b[0;34m.\u001b[0m\u001b[0mtitle\u001b[0m\u001b[0;34m(\u001b[0m\u001b[0;34m\"Histograma B\"\u001b[0m\u001b[0;34m)\u001b[0m\u001b[0;34m\u001b[0m\u001b[0;34m\u001b[0m\u001b[0m\n\u001b[1;32m      3\u001b[0m \u001b[0mplt\u001b[0m\u001b[0;34m.\u001b[0m\u001b[0mshow\u001b[0m\u001b[0;34m(\u001b[0m\u001b[0;34m)\u001b[0m\u001b[0;34m\u001b[0m\u001b[0;34m\u001b[0m\u001b[0m\n\u001b[0;32m----> 4\u001b[0;31m \u001b[0mcv2\u001b[0m\u001b[0;34m.\u001b[0m\u001b[0mimwrite\u001b[0m\u001b[0;34m(\u001b[0m\u001b[0;34m'histogramR.png'\u001b[0m\u001b[0;34m,\u001b[0m\u001b[0mhist\u001b[0m\u001b[0;34m)\u001b[0m\u001b[0;34m\u001b[0m\u001b[0;34m\u001b[0m\u001b[0m\n\u001b[0m",
      "\u001b[0;31mTypeError\u001b[0m: Expected Ptr<cv::UMat> for argument '%s'"
     ]
    }
   ],
   "source": [
    "plt.bar(np.arange(len(blueA)),blueA,width=1,color='b')\n",
    "plt.title(\"Histograma B\") \n",
    "plt.show()\n"
   ]
  },
  {
   "cell_type": "code",
   "execution_count": null,
   "metadata": {},
   "outputs": [],
   "source": []
  }
 ],
 "metadata": {
  "kernelspec": {
   "display_name": "Python 3",
   "language": "python",
   "name": "python3"
  },
  "language_info": {
   "codemirror_mode": {
    "name": "ipython",
    "version": 3
   },
   "file_extension": ".py",
   "mimetype": "text/x-python",
   "name": "python",
   "nbconvert_exporter": "python",
   "pygments_lexer": "ipython3",
   "version": "3.7.3"
  }
 },
 "nbformat": 4,
 "nbformat_minor": 2
}
