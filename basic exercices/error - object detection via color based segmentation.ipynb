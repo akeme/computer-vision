{
 "cells": [
  {
   "cell_type": "markdown",
   "metadata": {},
   "source": [
    "https://towardsdatascience.com/object-detection-via-color-based-image-segmentation-using-python-e9b7c72f0e11"
   ]
  },
  {
   "cell_type": "code",
   "execution_count": 17,
   "metadata": {},
   "outputs": [],
   "source": [
    "import cv2\n",
    "import numpy as np"
   ]
  },
  {
   "cell_type": "code",
   "execution_count": 18,
   "metadata": {},
   "outputs": [],
   "source": [
    "def viewImage(image):\n",
    "    cv2.namedWindow('Display', cv2.WINDOW_NORMAL)\n",
    "    cv2.imshow('Display', image)\n",
    "    cv2.waitKey(0)\n",
    "    cv2.destroyAllWindows()\n"
   ]
  },
  {
   "cell_type": "code",
   "execution_count": 19,
   "metadata": {},
   "outputs": [],
   "source": [
    "def grayscale_17_levels (image):\n",
    "    high = 255\n",
    "    while(1):  \n",
    "        low = high - 15\n",
    "        col_to_be_changed_low = np.array([low])\n",
    "        col_to_be_changed_high = np.array([high])\n",
    "        curr_mask = cv2.inRange(gray, col_to_be_changed_low,col_to_be_changed_high)\n",
    "        gray[curr_mask > 0] = (high)\n",
    "        high -= 15\n",
    "        if(low == 0 ):\n",
    "            break\n"
   ]
  },
  {
   "cell_type": "code",
   "execution_count": 20,
   "metadata": {},
   "outputs": [],
   "source": [
    "#image = cv2.imread('./path/to/image')\n",
    "image = cv2.imread('data/circle_grayscale.png')\n",
    "viewImage(image)\n",
    "gray = cv2.cvtColor(image, cv2.COLOR_BGR2GRAY)\n",
    "grayscale_17_levels(gray)\n",
    "viewImage(gray)"
   ]
  },
  {
   "cell_type": "code",
   "execution_count": 21,
   "metadata": {},
   "outputs": [],
   "source": [
    "def get_area_of_each_gray_level(im):\n",
    "## convert image to gray scale (must br done before contouring)\n",
    "    image = cv2.cvtColor(im, cv2.COLOR_BGR2GRAY)\n",
    "    output = []\n",
    "    high = 255\n",
    "    first = True\n",
    "    while(1):\n",
    "        low = high - 15\n",
    "        if(first == False):\n",
    "# making values that are of a greater gray level black \n",
    "            ## so it won't get detected  \n",
    "            to_be_black_again_low = np.array([high])\n",
    "            to_be_black_again_high = np.array([255])\n",
    "            curr_mask = cv2.inRange(image, to_be_black_again_low, \n",
    "            to_be_black_again_high)\n",
    "            image[curr_mask > 0] = (0)\n",
    "            \n",
    "        # making values of this gray level white so we can calculate\n",
    "        # it's area\n",
    "        ret, threshold = cv2.threshold(image, low, 255, 0)\n",
    "        contours, hirerchy = cv2.findContours(threshold, \n",
    "        cv2.RETR_LIST, cv2.CHAIN_APPROX_NONE)\n",
    "    if(len(contours) > 0):\n",
    "        output.append([cv2.contourArea(contours[0])])\n",
    "        cv2.drawContours(im, contours, -1, (0,0,255), 3)\n",
    "    high -= 15\n",
    "    first = False\n",
    "#    if(low == 0 ):\n",
    "#        break\n",
    "    return output"
   ]
  },
  {
   "cell_type": "code",
   "execution_count": null,
   "metadata": {},
   "outputs": [],
   "source": []
  },
  {
   "cell_type": "code",
   "execution_count": null,
   "metadata": {},
   "outputs": [],
   "source": []
  }
 ],
 "metadata": {
  "kernelspec": {
   "display_name": "Python 3",
   "language": "python",
   "name": "python3"
  },
  "language_info": {
   "codemirror_mode": {
    "name": "ipython",
    "version": 3
   },
   "file_extension": ".py",
   "mimetype": "text/x-python",
   "name": "python",
   "nbconvert_exporter": "python",
   "pygments_lexer": "ipython3",
   "version": "3.7.3"
  }
 },
 "nbformat": 4,
 "nbformat_minor": 2
}
