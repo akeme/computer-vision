{
 "cells": [
  {
   "cell_type": "markdown",
   "metadata": {},
   "source": [
    "<h1>Crescimento de regiões</h1>\n",
    "<p>baseado no código apresentado pelo prof Msc. Aldísio Medeiros</p>\n",
    "\n",
    "utiliza as bibliotecas numpy e opencv para a segmentação\n",
    "com algumas modificações minimas"
   ]
  },
  {
   "cell_type": "code",
   "execution_count": 8,
   "metadata": {},
   "outputs": [],
   "source": [
    "#bibliotecas\n",
    "    \n",
    "import sys\n",
    "import cv2\n",
    "import math\n",
    "import numpy as np\n",
    "import matplotlib.pyplot as plt\n",
    "import time\n",
    "\n"
   ]
  },
  {
   "cell_type": "code",
   "execution_count": 9,
   "metadata": {},
   "outputs": [],
   "source": [
    "def growingRegionGray(x, y, differential):\n",
    "    global image\n",
    "    global image2\n",
    "    global pixelsGrowing\n",
    "    threshold = image[x][y]\n",
    "    for u in pixelsGrowing:\n",
    "        line = u[0]\n",
    "        col = u[1]\n",
    "        for a in range(kernelStep, kernelA + kernelStep):\n",
    "            for b in range(kernelStep, kernelB + kernelStep):\n",
    "                try:\n",
    "                    if (threshold - differential <= image[line + a][col + b] <= threshold + differential):\n",
    "                        if [line + a, col + b] in pixelsGrowing:\n",
    "                            continue\n",
    "                        else:\n",
    "                            image2[line + a][col + b] = image[line + a][col + b]\n",
    "                            image[line + a][col + b] = 1\n",
    "                            pixelsGrowing.append([line + a, col + b])\n",
    "                except:\n",
    "                    continue\n",
    "        #pixelsGrowing.remove(u)\n",
    "        cv2.imshow('Result', image2)\n",
    "        cv2.waitKey(1)\n"
   ]
  },
  {
   "cell_type": "code",
   "execution_count": 10,
   "metadata": {},
   "outputs": [],
   "source": [
    "\n",
    "def growingRegionBin(x, y):\n",
    "    global image\n",
    "    global image2\n",
    "    global pixelsGrowing\n",
    "\n",
    "    for u in pixelsGrowing:\n",
    "        line = u[0]\n",
    "        col = u[1]\n",
    "        for a in range(kernelStep,kernelA+kernelStep):\n",
    "            for b in range(kernelStep,kernelB+kernelStep):\n",
    "                try:\n",
    "                    if (image[line+a][col+b] == 255):\n",
    "                        if [line+a , col+b ] in pixelsGrowing:\n",
    "                            continue\n",
    "                        else:\n",
    "                            image[line+a][col+b] = 1\n",
    "                            pixelsGrowing.append([line+a , col+b ])\n",
    "                            image2[line+a][col+b] = 255\n",
    "\n",
    "                except:\n",
    "                    continue\n",
    "        cv2.imshow('Result', image2)\n",
    "        cv2.waitKey(1)\n"
   ]
  },
  {
   "cell_type": "code",
   "execution_count": 16,
   "metadata": {},
   "outputs": [
    {
     "data": {
      "image/png": "[encoded data removed]",
      "text/plain": [
       "<Figure size 432x288 with 1 Axes>"
      ]
     },
     "metadata": {
      "needs_background": "light"
     },
     "output_type": "display_data"
    },
    {
     "data": {
      "text/plain": [
       "True"
      ]
     },
     "execution_count": 16,
     "metadata": {},
     "output_type": "execute_result"
    }
   ],
   "source": [
    "\n",
    "#AM: Read image\n",
    "imgName = 'originais/avengers.png'\n",
    "#imgName = 'originais/leucocitos.png'\n",
    "#imgName = 'originais/coins.jpg'\n",
    "image = cv2.imread(imgName, 0)\n",
    "image2 = image\n",
    "plt.imshow(image)\n",
    "plt.show()\n",
    "cv2.imwrite('original_cres.png',image)\n"
   ]
  },
  {
   "cell_type": "code",
   "execution_count": 17,
   "metadata": {},
   "outputs": [
    {
     "name": "stdout",
     "output_type": "stream",
     "text": [
      "Time lapse 21.094653606414795s\n"
     ]
    },
    {
     "data": {
      "text/plain": [
       "-1"
      ]
     },
     "execution_count": 17,
     "metadata": {},
     "output_type": "execute_result"
    }
   ],
   "source": [
    "\n",
    "startTime = time.time()\n",
    "kernel = 3 #parâmetro de controle, impar\n",
    "kernelSize = kernel*kernel\n",
    "kernelA = int(math.sqrt(kernelSize))\n",
    "kernelB = int(kernelA)\n",
    "kernelStep = -1*int(kernelA/2)\n",
    "pixelsGrowing = []\n",
    "\n",
    "imageSizeX, imageSizeY = image.shape\n",
    "\n",
    "# AM: Set seeds Bin\n",
    "i=166; j=224\n",
    "#pixelsGrowing.append([i, j]) #AM: seed\n",
    "#pixelsGrowing.append([288, 191]) #AM: seed\n",
    "\n",
    "# AM: Set seeds Gray\n",
    "i=171; j=183\n",
    "pixelsGrowing.append([i, j]) #AM: seed\n",
    "pixelsGrowing.append([161,374]) #AM: seed\n",
    "pixelsGrowing.append([85,220]) #AM: seed\n",
    "pixelsGrowing.append([101,303]) #AM: seed\n",
    "pixelsGrowing.append([251,77]) #AM: seed\n",
    "\n",
    "# AM: Blank image\n",
    "image2 = np.zeros((imageSizeX,imageSizeY,1), np.uint8)\n",
    "image =  cv2.imread(imgName, 0)\n",
    "\n",
    "# AM: Stat growing region\n",
    "growingRegionBin(i,j)\n",
    "#growingRegionGray(i, j, 25)\n",
    "\n",
    "lapseTime = time.time() - startTime\n",
    "print('Time lapse '+str(lapseTime)+'s')\n",
    "\n",
    "cv2.imshow('image', image2)\n",
    "cv2.imwrite('crescimento.png',image2)\n",
    "\n",
    "cv2.waitKey(0)"
   ]
  },
  {
   "cell_type": "code",
   "execution_count": null,
   "metadata": {},
   "outputs": [],
   "source": []
  }
 ],
 "metadata": {
  "kernelspec": {
   "display_name": "Python 3",
   "language": "python",
   "name": "python3"
  },
  "language_info": {
   "codemirror_mode": {
    "name": "ipython",
    "version": 3
   },
   "file_extension": ".py",
   "mimetype": "text/x-python",
   "name": "python",
   "nbconvert_exporter": "python",
   "pygments_lexer": "ipython3",
   "version": "3.7.3"
  }
 },
 "nbformat": 4,
 "nbformat_minor": 2
}
