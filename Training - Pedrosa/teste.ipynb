{
 "cells": [
  {
   "cell_type": "code",
   "execution_count": 2,
   "metadata": {},
   "outputs": [],
   "source": [
    "import cv2"
   ]
  },
  {
   "cell_type": "code",
   "execution_count": 6,
   "metadata": {},
   "outputs": [],
   "source": [
    "#read - mesma imagem utilizada anteriormente\n",
    "image = cv2.imread('img/image.jpg')\n",
    "grayscale_image = cv2.cvtColor(image, cv2.COLOR_BGR2GRAY)"
   ]
  },
  {
   "cell_type": "code",
   "execution_count": 15,
   "metadata": {},
   "outputs": [
    {
     "name": "stdout",
     "output_type": "stream",
     "text": [
      "B <class 'numpy.ndarray'>\n",
      "300\n",
      "300\n"
     ]
    }
   ],
   "source": [
    "# Separate the rgb channels\n",
    "blue_channel, green_channel, red_channel = cv2.split(image)\n",
    "\n",
    "print('B', type(blue_channel))\n",
    "print(len(blue_channel))\n",
    "type(grayscale_image)\n",
    "print(len(grayscale_image))"
   ]
  },
  {
   "cell_type": "code",
   "execution_count": 10,
   "metadata": {},
   "outputs": [
    {
     "data": {
      "text/plain": [
       "numpy.ndarray"
      ]
     },
     "execution_count": 10,
     "metadata": {},
     "output_type": "execute_result"
    }
   ],
   "source": [
    "rows, cols = grayscale_image.shape[:2]\n",
    "\n",
    "# Save all pixels in a txt file\n",
    "with open('result.txt', 'w') as outfile:\n",
    "    for row in range(rows):\n",
    "        for col in range(cols):\n",
    "            outfile.write(str(grayscale_image[row, col]) + ' ')\n",
    "        outfile.write('\\n')"
   ]
  },
  {
   "cell_type": "code",
   "execution_count": 20,
   "metadata": {},
   "outputs": [],
   "source": [
    "rows, cols = blue_channel.shape[:2]\n",
    "\n",
    "# Save all pixels in a txt file\n",
    "with open('resultB.txt', 'w') as outfile:\n",
    "    for row in range(rows):\n",
    "        for col in range(cols):\n",
    "            outfile.write(str(blue_channel[row, col]) + ' ')\n",
    "        outfile.write('\\n')"
   ]
  },
  {
   "cell_type": "code",
   "execution_count": 21,
   "metadata": {},
   "outputs": [],
   "source": [
    "rows, cols = green_channel.shape[:2]\n",
    "\n",
    "# Save all pixels in a txt file\n",
    "with open('resultG.txt', 'w') as outfile:\n",
    "    for row in range(rows):\n",
    "        for col in range(cols):\n",
    "            outfile.write(str(green_channel[row, col]) + ' ')\n",
    "        outfile.write('\\n')"
   ]
  },
  {
   "cell_type": "code",
   "execution_count": 22,
   "metadata": {},
   "outputs": [],
   "source": [
    "rows, cols = red_channel.shape[:2]\n",
    "\n",
    "# Save all pixels in a txt file\n",
    "with open('resultR.txt', 'w') as outfile:\n",
    "    for row in range(rows):\n",
    "        for col in range(cols):\n",
    "            outfile.write(str(red_channel[row, col]) + ' ')\n",
    "        outfile.write('\\n')"
   ]
  },
  {
   "cell_type": "code",
   "execution_count": null,
   "metadata": {},
   "outputs": [],
   "source": []
  }
 ],
 "metadata": {
  "kernelspec": {
   "display_name": "Python 3",
   "language": "python",
   "name": "python3"
  },
  "language_info": {
   "codemirror_mode": {
    "name": "ipython",
    "version": 3
   },
   "file_extension": ".py",
   "mimetype": "text/x-python",
   "name": "python",
   "nbconvert_exporter": "python",
   "pygments_lexer": "ipython3",
   "version": "3.7.3"
  }
 },
 "nbformat": 4,
 "nbformat_minor": 2
}
